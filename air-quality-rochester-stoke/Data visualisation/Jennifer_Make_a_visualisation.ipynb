{
  "nbformat": 4,
  "nbformat_minor": 0,
  "metadata": {
    "colab": {
      "name": "Jennifer Make a visualisation.ipynb",
      "provenance": [],
      "collapsed_sections": []
    },
    "kernelspec": {
      "name": "python3",
      "display_name": "Python 3"
    },
    "language_info": {
      "name": "python"
    }
  },
  "cells": [
    {
      "cell_type": "markdown",
      "metadata": {
        "id": "xWRHWcO8oKV7"
      },
      "source": [
        "# Make a visualisation\n",
        "\n",
        "Use the code cell below to:\n",
        "\n",
        "* import the pandas library\n",
        "* store the link (url)\n",
        "* create a dataframe from the dataset  (df= )\n",
        "* display the dataframe (df) info\n",
        "* drop the rows that have no data in the 'NO2 Level' column\n",
        "* change the datatype for the Date column to datetime\n",
        "* change the datatype for the NO2 Level column to float\n",
        "\n",
        "Choose the url for your chosen dataset from this list:\n",
        "\n",
        "### NO2-daily-mean-2014-2021-Chatham-Roadside.csv\n",
        "https://drive.google.com/uc?id=15dGCQBoEf2qJKNF6rFKUcoKNQ35kchk0  \n",
        "\n",
        "### NO2-measurement-data-2020-Chatham-Roadside.csv\n",
        "https://drive.google.com/uc?id=1SOe9b4VJ1FCtDVgZ2T8d00-jTw2Kux1i  \n",
        "\n",
        "### NO2-daily-mean-2014-2021-Rochester-Stoke.csv\n",
        "https://drive.google.com/uc?id=16aM_5IUWKrpY2Hq3SRWcElHg-NbzX84x  \n",
        "\n",
        "### NO2-measurement-data-2020-Rochester-Stoke.csv\n",
        "https://drive.google.com/uc?id=1QSNJ3B1ku8kjXsA_tCBh4fbpDK7wVLAA  \n"
      ]
    },
    {
      "cell_type": "code",
      "metadata": {
        "id": "wzt08wuZoHV9",
        "colab": {
          "base_uri": "https://localhost:8080/",
          "height": 235
        },
        "outputId": "09031f0a-6703-43cc-9f12-59785a5bb05a"
      },
      "source": [
        "# prepare the data using the code in the learning worksheets, changing the url to the one for your chosen dataset\n",
        "import pandas as pd\n",
        "\n",
        "url = \"https://drive.google.com/uc?id=1QSNJ3B1ku8kjXsA_tCBh4fbpDK7wVLAA\"\n",
        "df = pd.read_csv(url, skiprows=1)\n",
        "df.drop(df[df['Nitrogen dioxide'] == 'nodata'].index, inplace = True)\n",
        "df['Date'] = pd.to_datetime(df['Date'])\n",
        "df['Nitrogen dioxide'] = df['Nitrogen dioxide'].astype(float)\n",
        "df['Weekdays'] = df['Date'].dt.weekday\n",
        "display(df.info())"
      ],
      "execution_count": null,
      "outputs": [
        {
          "output_type": "stream",
          "text": [
            "<class 'pandas.core.frame.DataFrame'>\n",
            "Int64Index: 8672 entries, 0 to 8783\n",
            "Data columns (total 5 columns):\n",
            " #   Column            Non-Null Count  Dtype         \n",
            "---  ------            --------------  -----         \n",
            " 0   Date              8672 non-null   datetime64[ns]\n",
            " 1   Time              8672 non-null   object        \n",
            " 2   Nitrogen dioxide  8672 non-null   float64       \n",
            " 3   Status            8672 non-null   object        \n",
            " 4   Weekdays          8672 non-null   int64         \n",
            "dtypes: datetime64[ns](1), float64(1), int64(1), object(2)\n",
            "memory usage: 406.5+ KB\n"
          ],
          "name": "stdout"
        },
        {
          "output_type": "display_data",
          "data": {
            "text/plain": [
              "None"
            ]
          },
          "metadata": {}
        }
      ]
    },
    {
      "cell_type": "markdown",
      "metadata": {
        "id": "LyKb6H0aqWWX"
      },
      "source": [
        "## Add code to group data as needed for the chart you want to make"
      ]
    },
    {
      "cell_type": "code",
      "metadata": {
        "id": "vg0gQLbkqe8s"
      },
      "source": [
        "y = df.groupby(['Weekdays'])['Nitrogen dioxide'].max()\n",
        "x = [\"Mon\", \"Tue\", \"Wed\", \"Thu\", \"Fri\", \"Sat\", \"Sun\"] "
      ],
      "execution_count": null,
      "outputs": []
    },
    {
      "cell_type": "markdown",
      "metadata": {
        "id": "8ByaMMFHqf1L"
      },
      "source": [
        "## Create and style the chart"
      ]
    },
    {
      "cell_type": "code",
      "metadata": {
        "id": "D2I3sBXCqkMz",
        "colab": {
          "base_uri": "https://localhost:8080/",
          "height": 361
        },
        "outputId": "2a174e80-5977-47ea-da74-fce58861f8a8"
      },
      "source": [
        "import matplotlib.pyplot as plt\n",
        "plt.title('Maximum NO2 Level by day 2020-2021')\n",
        "plt.xticks(rotation=45)\n",
        "plt.plot(x,y, linestyle=\"solid\", linewidth=5, color=\"magenta\", marker=\"*\",markersize=14, markeredgecolor=\"mediumblue\", markerfacecolor=\"darkmagenta\")\n",
        "ax = plt.axes()\n",
        "ax.set(facecolor = \"goldenrod\")\n",
        "plt.rcParams['font.style'] = \"italic\"\n",
        "plt.rcParams['font.size'] = 14\n",
        "plt.show()"
      ],
      "execution_count": null,
      "outputs": [
        {
          "output_type": "stream",
          "text": [
            "/usr/local/lib/python3.7/dist-packages/ipykernel_launcher.py:5: MatplotlibDeprecationWarning: Adding an axes using the same arguments as a previous axes currently reuses the earlier instance.  In a future version, a new instance will always be created and returned.  Meanwhile, this warning can be suppressed, and the future behavior ensured, by passing a unique label to each axes instance.\n",
            "  \"\"\"\n"
          ],
          "name": "stderr"
        },
        {
          "output_type": "display_data",
          "data": {
            "image/png": "[encoded data removed]",
            "text/plain": [
              "<Figure size 432x288 with 1 Axes>"
            ]
          },
          "metadata": {
            "needs_background": "light"
          }
        }
      ]
    },
    {
      "cell_type": "markdown",
      "metadata": {
        "id": "7RjhGvOLqlD8"
      },
      "source": [
        "## Finally\n",
        "\n",
        "To download your finished image to a file:\n",
        "\n",
        "* right-click on the image\n",
        "* select Save image as...\n",
        "* give the file a name (maybe the same as the chart title)\n",
        "* save it to the downloads folder\n",
        "\n",
        "Go to the Jamboard:  https://jamboard.google.com/d/15AHamnKEWIVIf66_fu2Jp41G7J74fw0vlsLQfcApmJo/edit?usp=sharing  \n",
        "\n",
        "Click on the right arrow at the top of the page to go to the 2nd screen  \n",
        "Click on the image icon in the tools bar on the left  \n",
        "Select your file from the download folder  \n",
        "Move the image to a suitable place on the Jamboard"
      ]
    },
    {
      "cell_type": "code",
      "metadata": {
        "colab": {
          "base_uri": "https://localhost:8080/",
          "height": 34
        },
        "id": "hcpvYUrZqgDN",
        "outputId": "435336f1-1f0c-4462-9c97-08900f43af92"
      },
      "source": [
        "plt.savefig(\"Max-NO2-by-day.svg\")"
      ],
      "execution_count": null,
      "outputs": [
        {
          "output_type": "display_data",
          "data": {
            "text/plain": [
              "<Figure size 432x288 with 0 Axes>"
            ]
          },
          "metadata": {}
        }
      ]
    }
  ]
}