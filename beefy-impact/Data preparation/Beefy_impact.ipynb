{
  "nbformat": 4,
  "nbformat_minor": 0,
  "metadata": {
    "colab": {
      "name": "Beefy impact.ipynb",
      "provenance": []
    },
    "kernelspec": {
      "name": "python3",
      "display_name": "Python 3"
    },
    "language_info": {
      "name": "python"
    }
  },
  "cells": [
    {
      "cell_type": "code",
      "metadata": {
        "colab": {
          "base_uri": "https://localhost:8080/",
          "height": 17
        },
        "id": "D7rJZcMAF2ln",
        "outputId": "b4c16ea0-287f-4a6d-f81b-7cdc54cbe70b"
      },
      "source": [
        "def prepare_beefy_impact():\n",
        "  from google.colab import files\n",
        "  import pandas as pd \n",
        "  data = pd.read_csv('https://drive.google.com/uc?id=13CqHK6mNZqlZYjgKnhD8po7khP_c_NoZ')\n",
        "\n",
        "  #Rename the value column\n",
        "  data.rename(columns =\n",
        "  {\n",
        "      'Value':'Kilotonnes'  \n",
        "  },inplace =True\n",
        "            )\n",
        "\n",
        "  #Extract the specific data\n",
        "  nitrogen_oxide_data=data[(data['Element']=='Emissions (N2O)')&(data['Item'] =='Manure left on Pasture')]\n",
        "\n",
        "  #Show only specific columns\n",
        "  sorted_nitrogen_oxide_data = nitrogen_oxide_data[['Kilotonnes','Year']]\n",
        "\n",
        "\n",
        "  sorted_nitrogen_oxide_data.to_json('Beefy impact.json')\n",
        "  files.download('Beefy impact.json')\n",
        "  \n",
        "prepare_beefy_impact()"
      ],
      "execution_count": 28,
      "outputs": [
        {
          "output_type": "display_data",
          "data": {
            "application/javascript": [
              "\n",
              "    async function download(id, filename, size) {\n",
              "      if (!google.colab.kernel.accessAllowed) {\n",
              "        return;\n",
              "      }\n",
              "      const div = document.createElement('div');\n",
              "      const label = document.createElement('label');\n",
              "      label.textContent = `Downloading \"${filename}\": `;\n",
              "      div.appendChild(label);\n",
              "      const progress = document.createElement('progress');\n",
              "      progress.max = size;\n",
              "      div.appendChild(progress);\n",
              "      document.body.appendChild(div);\n",
              "\n",
              "      const buffers = [];\n",
              "      let downloaded = 0;\n",
              "\n",
              "      const channel = await google.colab.kernel.comms.open(id);\n",
              "      // Send a message to notify the kernel that we're ready.\n",
              "      channel.send({})\n",
              "\n",
              "      for await (const message of channel.messages) {\n",
              "        // Send a message to notify the kernel that we're ready.\n",
              "        channel.send({})\n",
              "        if (message.buffers) {\n",
              "          for (const buffer of message.buffers) {\n",
              "            buffers.push(buffer);\n",
              "            downloaded += buffer.byteLength;\n",
              "            progress.value = downloaded;\n",
              "          }\n",
              "        }\n",
              "      }\n",
              "      const blob = new Blob(buffers, {type: 'application/binary'});\n",
              "      const a = document.createElement('a');\n",
              "      a.href = window.URL.createObjectURL(blob);\n",
              "      a.download = filename;\n",
              "      div.appendChild(a);\n",
              "      a.click();\n",
              "      div.remove();\n",
              "    }\n",
              "  "
            ],
            "text/plain": [
              "<IPython.core.display.Javascript object>"
            ]
          },
          "metadata": {
            "tags": []
          }
        },
        {
          "output_type": "display_data",
          "data": {
            "application/javascript": [
              "download(\"download_3b46c3f5-bf2f-49c4-8947-7bf4c913b3b6\", \"Beefy impact.json\", 1675)"
            ],
            "text/plain": [
              "<IPython.core.display.Javascript object>"
            ]
          },
          "metadata": {
            "tags": []
          }
        }
      ]
    }
  ]
}