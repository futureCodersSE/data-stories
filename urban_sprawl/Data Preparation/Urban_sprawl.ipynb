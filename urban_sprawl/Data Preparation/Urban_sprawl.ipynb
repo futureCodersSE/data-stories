{
  "nbformat": 4,
  "nbformat_minor": 0,
  "metadata": {
    "colab": {
      "name": "Urban_sprawl.ipynb",
      "provenance": []
    },
    "kernelspec": {
      "name": "python3",
      "display_name": "Python 3"
    },
    "language_info": {
      "name": "python"
    }
  },
  "cells": [
    {
      "cell_type": "code",
      "metadata": {
        "colab": {
          "base_uri": "https://localhost:8080/",
          "height": 17
        },
        "id": "zXPz4gTvwylp",
        "outputId": "3b91c1bd-62bb-45d5-f21f-8f927a60ceeb"
      },
      "source": [
        "def prepare_urban_sprawl():\n",
        "  from google.colab import files\n",
        "  import pandas as pd \n",
        "\n",
        "  urban_sprawl_data =pd.read_csv('https://drive.google.com/uc?id=1F7ag0EfR1EyXmxacJxKtqUqeyIbAx4Kq')\n",
        "\n",
        "#Renaming the column of the extracted data \n",
        "  urban_sprawl_data.rename(columns =\n",
        "   {\n",
        "       'Value':'Urban population (percent)'\n",
        "    },inplace =True\n",
        "              )\n",
        "  #displaying the selected columns\n",
        "  sorted_data = urban_sprawl_data[(urban_sprawl_data['Series']=='Urban population (percent)')&(urban_sprawl_data['Unnamed: 1'] =='Total, all countries or areas')]\n",
        "  \n",
        "\n",
        "  sorted_data = sorted_data[['Year','Urban population (percent)']]\n",
        "\n",
        "  sorted_data.to_json('Urban sprawl.json')\n",
        "  files.download('Urban sprawl.json')\n",
        "  \n",
        " \n",
        "prepare_urban_sprawl()"
      ],
      "execution_count": null,
      "outputs": [
        {
          "output_type": "display_data",
          "data": {
            "application/javascript": [
              "\n",
              "    async function download(id, filename, size) {\n",
              "      if (!google.colab.kernel.accessAllowed) {\n",
              "        return;\n",
              "      }\n",
              "      const div = document.createElement('div');\n",
              "      const label = document.createElement('label');\n",
              "      label.textContent = `Downloading \"${filename}\": `;\n",
              "      div.appendChild(label);\n",
              "      const progress = document.createElement('progress');\n",
              "      progress.max = size;\n",
              "      div.appendChild(progress);\n",
              "      document.body.appendChild(div);\n",
              "\n",
              "      const buffers = [];\n",
              "      let downloaded = 0;\n",
              "\n",
              "      const channel = await google.colab.kernel.comms.open(id);\n",
              "      // Send a message to notify the kernel that we're ready.\n",
              "      channel.send({})\n",
              "\n",
              "      for await (const message of channel.messages) {\n",
              "        // Send a message to notify the kernel that we're ready.\n",
              "        channel.send({})\n",
              "        if (message.buffers) {\n",
              "          for (const buffer of message.buffers) {\n",
              "            buffers.push(buffer);\n",
              "            downloaded += buffer.byteLength;\n",
              "            progress.value = downloaded;\n",
              "          }\n",
              "        }\n",
              "      }\n",
              "      const blob = new Blob(buffers, {type: 'application/binary'});\n",
              "      const a = document.createElement('a');\n",
              "      a.href = window.URL.createObjectURL(blob);\n",
              "      a.download = filename;\n",
              "      div.appendChild(a);\n",
              "      a.click();\n",
              "      div.remove();\n",
              "    }\n",
              "  "
            ],
            "text/plain": [
              "<IPython.core.display.Javascript object>"
            ]
          },
          "metadata": {
            "tags": []
          }
        },
        {
          "output_type": "display_data",
          "data": {
            "application/javascript": [
              "download(\"download_f257ac0f-2b42-460a-9f4d-cc8d172169d1\", \"Urban sprawl.json\", 121)"
            ],
            "text/plain": [
              "<IPython.core.display.Javascript object>"
            ]
          },
          "metadata": {
            "tags": []
          }
        }
      ]
    }
  ]
}