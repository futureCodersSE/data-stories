{
  "nbformat": 4,
  "nbformat_minor": 0,
  "metadata": {
    "colab": {
      "name": "Emissions-prep.ipynb",
      "provenance": [],
      "collapsed_sections": []
    },
    "kernelspec": {
      "name": "python3",
      "display_name": "Python 3"
    },
    "language_info": {
      "name": "python"
    }
  },
  "cells": [
    {
      "cell_type": "code",
      "metadata": {
        "id": "FQqS6eobdaZy",
        "colab": {
          "base_uri": "https://localhost:8080/",
          "height": 34
        },
        "outputId": "26d696b8-b9a7-4178-d00b-aa02a9c99a66"
      },
      "source": [
        "# Prepared by Ano Lawa and Karen Scott\n",
        "from google.colab import files\n",
        "import pandas as pd\n",
        "\n",
        "def prepare_emissions_2017():\n",
        "  # Link to raw data set\n",
        "  url = 'https://drive.google.com/uc?id=1sd9ypXxl9GMlWxaX7s4gUjLgTD8LQdTf'\n",
        "  df = pd.read_csv(url)\n",
        "\n",
        "  #Filter records for the year 2010 and the Series is Emissions (thousand metric tons of carbon dioxide)\n",
        "  emissions = df[(df['Year'] == 2017) & (df['Series'] == 'Emissions (thousand metric tons of carbon dioxide)')]\n",
        "\n",
        "  #Sort the records in order of emissions, descending and separate the top ten records\n",
        "  emissions_sorted = emissions.sort_values(by= ['Value'], ascending = False).head(10)\n",
        "\n",
        "  #Change the headings so that Unnamed: 1 becomes Country and Value becomes CO2 Emissions (1000s metric tons)\n",
        "  emissions_sorted.rename(columns={'Unnamed: 1': 'Country', 'Value': 'CO2'}, inplace=True)\n",
        "  \n",
        "  #Separate out the Country and CO2 Emissions (1000s metric tons) columns only\n",
        "  emissions_final = emissions_sorted[['Country','CO2']]\n",
        "\n",
        "  #Transpose the rows into columns  (2 rows only)\n",
        "  emissions_final = emissions_final.transpose()\n",
        "\n",
        "  return emissions_final\n",
        "\n",
        "dataset = prepare_emissions_2017()\n",
        "dataset.to_json('emissions.json')\n",
        "files.download('emissions.json')"
      ],
      "execution_count": null,
      "outputs": [
        {
          "output_type": "display_data",
          "data": {
            "application/javascript": [
              "\n",
              "    async function download(id, filename, size) {\n",
              "      if (!google.colab.kernel.accessAllowed) {\n",
              "        return;\n",
              "      }\n",
              "      const div = document.createElement('div');\n",
              "      const label = document.createElement('label');\n",
              "      label.textContent = `Downloading \"${filename}\": `;\n",
              "      div.appendChild(label);\n",
              "      const progress = document.createElement('progress');\n",
              "      progress.max = size;\n",
              "      div.appendChild(progress);\n",
              "      document.body.appendChild(div);\n",
              "\n",
              "      const buffers = [];\n",
              "      let downloaded = 0;\n",
              "\n",
              "      const channel = await google.colab.kernel.comms.open(id);\n",
              "      // Send a message to notify the kernel that we're ready.\n",
              "      channel.send({})\n",
              "\n",
              "      for await (const message of channel.messages) {\n",
              "        // Send a message to notify the kernel that we're ready.\n",
              "        channel.send({})\n",
              "        if (message.buffers) {\n",
              "          for (const buffer of message.buffers) {\n",
              "            buffers.push(buffer);\n",
              "            downloaded += buffer.byteLength;\n",
              "            progress.value = downloaded;\n",
              "          }\n",
              "        }\n",
              "      }\n",
              "      const blob = new Blob(buffers, {type: 'application/binary'});\n",
              "      const a = document.createElement('a');\n",
              "      a.href = window.URL.createObjectURL(blob);\n",
              "      a.download = filename;\n",
              "      div.appendChild(a);\n",
              "      a.click();\n",
              "      div.remove();\n",
              "    }\n",
              "  "
            ],
            "text/plain": [
              "<IPython.core.display.Javascript object>"
            ]
          },
          "metadata": {
            "tags": []
          }
        },
        {
          "output_type": "display_data",
          "data": {
            "application/javascript": [
              "download(\"download_d80f4398-7908-41c8-aa6d-20ee6997a224\", \"emissions.json\", 550)"
            ],
            "text/plain": [
              "<IPython.core.display.Javascript object>"
            ]
          },
          "metadata": {
            "tags": []
          }
        }
      ]
    },
    {
      "cell_type": "code",
      "metadata": {
        "id": "hq890i4SjVHS"
      },
      "source": [
        ""
      ],
      "execution_count": null,
      "outputs": []
    }
  ]
}